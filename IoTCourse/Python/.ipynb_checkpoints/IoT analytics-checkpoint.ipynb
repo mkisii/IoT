{
 "cells": [
  {
   "cell_type": "code",
   "execution_count": null,
   "metadata": {},
   "outputs": [],
   "source": [
    "import pandas as pd\n",
    "import numpy as np\n",
    "import mathplotlip as plt"
   ]
  }
 ],
 "metadata": {
  "kernelspec": {
   "display_name": "Python 3.7.5 64-bit",
   "language": "python",
   "name": "python37564bit957ae99e894a4218ba7603a7a0fb6eed"
  }
 },
 "nbformat": 4,
 "nbformat_minor": 4
}
